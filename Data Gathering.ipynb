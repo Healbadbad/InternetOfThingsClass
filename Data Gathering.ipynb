{
 "cells": [
  {
   "cell_type": "markdown",
   "metadata": {},
   "source": [
    "# Internet of Things Project"
   ]
  },
  {
   "cell_type": "markdown",
   "metadata": {},
   "source": [
    "The Data is collected from a Shimmer, and is stored as a CSV\n",
    "\n"
   ]
  },
  {
   "cell_type": "markdown",
   "metadata": {},
   "source": [
    "# The Data\n"
   ]
  },
  {
   "cell_type": "markdown",
   "metadata": {},
   "source": [
    "The data is formatted as follows:\n",
    "\n",
    "unix timestamp, ax,ay,az, wx,wy,wz ,battery, gx,gy,gz mx,my,mz, pressure, temperature, ''\n"
   ]
  },
  {
   "cell_type": "code",
   "execution_count": 93,
   "metadata": {
    "collapsed": false
   },
   "outputs": [],
   "source": [
    "%matplotlib inline"
   ]
  },
  {
   "cell_type": "code",
   "execution_count": 94,
   "metadata": {
    "collapsed": false
   },
   "outputs": [],
   "source": [
    "import matplotlib.pyplot as plt\n",
    "import numpy as np\n",
    "import datetime\n",
    "import csv\n",
    "\n",
    "location = \"Shimmer_Data/2_19_16_to_2_21_16/2016-02-19_11.35.33_First_Deploy_MultiSession/\"\n",
    "pre = \"First_Deploy_Session1_Shimmer_\"\n",
    "post = \"_Uncalibrated_SD.txt\" \n",
    "devices = [\"E913\", \"E8D2\", \"E8E3\", \"E84F\", \"E90B\", \"E91B\",\n",
    "           \"E833\", \"E863\", \"E887\", \"E906\", \"E912\"]\n",
    "csvfile = open(location + pre + devices[0] + post)\n",
    "reader = csv.reader(csvfile, delimiter = ',')\n",
    "numsamples = 2000"
   ]
  },
  {
   "cell_type": "code",
   "execution_count": 95,
   "metadata": {
    "collapsed": false
   },
   "outputs": [],
   "source": [
    "# sum = 0\n",
    "# for row in reader:\n",
    "#     sum +=1\n",
    "# print sum"
   ]
  },
  {
   "cell_type": "code",
   "execution_count": 96,
   "metadata": {
    "collapsed": false
   },
   "outputs": [
    {
     "name": "stdout",
     "output_type": "stream",
     "text": [
      "2000\n"
     ]
    }
   ],
   "source": [
    "# Get rid of tag info\n",
    "for k in range(3):\n",
    "    reader.next()\n",
    "\n",
    "data = []\n",
    "for k in range(numsamples):\n",
    "    data.append(reader.next())\n",
    "    \n",
    "print len(data)"
   ]
  },
  {
   "cell_type": "code",
   "execution_count": 105,
   "metadata": {
    "collapsed": false,
    "scrolled": false
   },
   "outputs": [
    {
     "name": "stdout",
     "output_type": "stream",
     "text": [
      "Start Time:\n",
      "2016-02-19 11:40:30\n",
      "End Time\n",
      "2016-02-19 11:40:40\n"
     ]
    },
    {
     "data": {
      "text/plain": [
       "<matplotlib.text.Text at 0xba4d1d0>"
      ]
     },
     "execution_count": 105,
     "metadata": {},
     "output_type": "execute_result"
    },
    {
     "data": {
      "image/png": "[encoded data removed]",
      "text/plain": [
       "<matplotlib.figure.Figure at 0xb73c470>"
      ]
     },
     "metadata": {},
     "output_type": "display_data"
    }
   ],
   "source": [
    "toPlot = [[],[],[]]\n",
    "x = np.linspace(0,1,numsamples)\n",
    "for k in range(numsamples):\n",
    "    toPlot[0].append(data[k][1])\n",
    "    toPlot[1].append(data[k][2])\n",
    "    toPlot[2].append(data[k][3])\n",
    "\n",
    "plt.plot(x,toPlot[0])\n",
    "plt.plot(x,toPlot[1])\n",
    "plt.plot(x,toPlot[2])\n",
    "\n",
    "#print the timestamp\n",
    "print \"Start Time:\"\n",
    "print(datetime.datetime.fromtimestamp(\n",
    "        float(data[0][0])/1000).strftime('%Y-%m-%d %H:%M:%S'))\n",
    "print \"End Time\"\n",
    "print(datetime.datetime.fromtimestamp(\n",
    "        float(data[numsamples -1][0])/1000).strftime('%Y-%m-%d %H:%M:%S'))\n",
    "\n",
    "plt.title('Accelerometer Data')"
   ]
  },
  {
   "cell_type": "code",
   "execution_count": null,
   "metadata": {
    "collapsed": true
   },
   "outputs": [],
   "source": []
  },
  {
   "cell_type": "code",
   "execution_count": null,
   "metadata": {
    "collapsed": true
   },
   "outputs": [],
   "source": []
  }
 ],
 "metadata": {
  "kernelspec": {
   "display_name": "Python 2",
   "language": "python",
   "name": "python2"
  },
  "language_info": {
   "codemirror_mode": {
    "name": "ipython",
    "version": 2
   },
   "file_extension": ".py",
   "mimetype": "text/x-python",
   "name": "python",
   "nbconvert_exporter": "python",
   "pygments_lexer": "ipython2",
   "version": "2.7.11"
  }
 },
 "nbformat": 4,
 "nbformat_minor": 0
}
