{
 "cells": [
  {
   "cell_type": "markdown",
   "metadata": {},
   "source": [
    "# Notes\n",
    "Row 462 - Initial Test data - Recognized running purely on the mag, adding more data\n",
    "Row 556 - Ran treadmil with nobody on it"
   ]
  },
  {
   "cell_type": "code",
   "execution_count": 8,
   "metadata": {
    "collapsed": true
   },
   "outputs": [],
   "source": [
    "import pandas as pd\n",
    "import numpy as np\n",
    "import pickle as pkl\n",
    "from sklearn.cross_validation import cross_val_score\n",
    "from sklearn.metrics import accuracy_score\n",
    "from sklearn import tree\n",
    "from sklearn.ensemble import RandomForestClassifier"
   ]
  },
  {
   "cell_type": "code",
   "execution_count": 9,
   "metadata": {
    "collapsed": false
   },
   "outputs": [
    {
     "data": {
      "text/html": [
       "<div>\n",
       "<table border=\"1\" class=\"dataframe\">\n",
       "  <thead>\n",
       "    <tr style=\"text-align: right;\">\n",
       "      <th></th>\n",
       "      <th>0.00116655757393</th>\n",
       "      <th>0.00421395093485</th>\n",
       "      <th>0.11328125</th>\n",
       "      <th>0.650602409639</th>\n",
       "      <th>10.277468602</th>\n",
       "      <th>0.0</th>\n",
       "      <th>41.0</th>\n",
       "      <th>0.643401731928</th>\n",
       "      <th>0.025397373907</th>\n",
       "      <th>0.00387846117801</th>\n",
       "      <th>...</th>\n",
       "      <th>0.000116176130179</th>\n",
       "      <th>0.000159734636111</th>\n",
       "      <th>0.34765625.1</th>\n",
       "      <th>-0.209183673469</th>\n",
       "      <th>3.39569744547</th>\n",
       "      <th>52.0</th>\n",
       "      <th>74.0</th>\n",
       "      <th>-0.212555803571</th>\n",
       "      <th>0.00780832988846</th>\n",
       "      <th>running</th>\n",
       "    </tr>\n",
       "  </thead>\n",
       "  <tbody>\n",
       "    <tr>\n",
       "      <th>161</th>\n",
       "      <td>0.608877</td>\n",
       "      <td>0.771088</td>\n",
       "      <td>0.289062</td>\n",
       "      <td>-0.409639</td>\n",
       "      <td>6.427939</td>\n",
       "      <td>73.0</td>\n",
       "      <td>78.0</td>\n",
       "      <td>-0.102127</td>\n",
       "      <td>0.568372</td>\n",
       "      <td>2.523084</td>\n",
       "      <td>...</td>\n",
       "      <td>0.000477</td>\n",
       "      <td>0.001896</td>\n",
       "      <td>0.218750</td>\n",
       "      <td>-0.876531</td>\n",
       "      <td>13.933572</td>\n",
       "      <td>57.0</td>\n",
       "      <td>58.0</td>\n",
       "      <td>-0.872485</td>\n",
       "      <td>0.015363</td>\n",
       "      <td>walking</td>\n",
       "    </tr>\n",
       "    <tr>\n",
       "      <th>468</th>\n",
       "      <td>0.027692</td>\n",
       "      <td>0.053554</td>\n",
       "      <td>0.281250</td>\n",
       "      <td>-0.120482</td>\n",
       "      <td>1.853367</td>\n",
       "      <td>67.0</td>\n",
       "      <td>77.0</td>\n",
       "      <td>-0.092103</td>\n",
       "      <td>0.103420</td>\n",
       "      <td>0.137386</td>\n",
       "      <td>...</td>\n",
       "      <td>0.001069</td>\n",
       "      <td>0.004076</td>\n",
       "      <td>0.031250</td>\n",
       "      <td>-0.880612</td>\n",
       "      <td>13.946697</td>\n",
       "      <td>8.0</td>\n",
       "      <td>32.0</td>\n",
       "      <td>-0.873278</td>\n",
       "      <td>0.020709</td>\n",
       "      <td>not_walking</td>\n",
       "    </tr>\n",
       "    <tr>\n",
       "      <th>461</th>\n",
       "      <td>0.001052</td>\n",
       "      <td>0.002440</td>\n",
       "      <td>0.238281</td>\n",
       "      <td>-0.096386</td>\n",
       "      <td>1.477292</td>\n",
       "      <td>21.0</td>\n",
       "      <td>56.0</td>\n",
       "      <td>-0.091632</td>\n",
       "      <td>0.018493</td>\n",
       "      <td>0.008511</td>\n",
       "      <td>...</td>\n",
       "      <td>0.000119</td>\n",
       "      <td>0.000177</td>\n",
       "      <td>0.445312</td>\n",
       "      <td>-0.861224</td>\n",
       "      <td>13.948401</td>\n",
       "      <td>89.0</td>\n",
       "      <td>79.0</td>\n",
       "      <td>-0.873422</td>\n",
       "      <td>0.007717</td>\n",
       "      <td>not_walking</td>\n",
       "    </tr>\n",
       "    <tr>\n",
       "      <th>363</th>\n",
       "      <td>0.223950</td>\n",
       "      <td>0.339242</td>\n",
       "      <td>0.250000</td>\n",
       "      <td>-0.397590</td>\n",
       "      <td>3.781012</td>\n",
       "      <td>53.0</td>\n",
       "      <td>72.0</td>\n",
       "      <td>-0.104386</td>\n",
       "      <td>0.315440</td>\n",
       "      <td>1.141280</td>\n",
       "      <td>...</td>\n",
       "      <td>0.000763</td>\n",
       "      <td>0.003595</td>\n",
       "      <td>0.125000</td>\n",
       "      <td>-0.850000</td>\n",
       "      <td>13.976033</td>\n",
       "      <td>32.0</td>\n",
       "      <td>45.0</td>\n",
       "      <td>-0.874976</td>\n",
       "      <td>0.018710</td>\n",
       "      <td>walking</td>\n",
       "    </tr>\n",
       "    <tr>\n",
       "      <th>548</th>\n",
       "      <td>2.033926</td>\n",
       "      <td>6.608846</td>\n",
       "      <td>0.273438</td>\n",
       "      <td>0.795181</td>\n",
       "      <td>11.628207</td>\n",
       "      <td>70.0</td>\n",
       "      <td>77.0</td>\n",
       "      <td>-0.070265</td>\n",
       "      <td>1.039079</td>\n",
       "      <td>9.945014</td>\n",
       "      <td>...</td>\n",
       "      <td>0.000135</td>\n",
       "      <td>0.000209</td>\n",
       "      <td>0.445312</td>\n",
       "      <td>-0.864286</td>\n",
       "      <td>13.899504</td>\n",
       "      <td>88.0</td>\n",
       "      <td>76.0</td>\n",
       "      <td>-0.870380</td>\n",
       "      <td>0.008177</td>\n",
       "      <td>not_walking</td>\n",
       "    </tr>\n",
       "  </tbody>\n",
       "</table>\n",
       "<p>5 rows × 55 columns</p>\n",
       "</div>"
      ],
      "text/plain": [
       "     0.00116655757393  0.00421395093485  0.11328125  0.650602409639  \\\n",
       "161          0.608877          0.771088    0.289062       -0.409639   \n",
       "468          0.027692          0.053554    0.281250       -0.120482   \n",
       "461          0.001052          0.002440    0.238281       -0.096386   \n",
       "363          0.223950          0.339242    0.250000       -0.397590   \n",
       "548          2.033926          6.608846    0.273438        0.795181   \n",
       "\n",
       "     10.277468602   0.0  41.0  0.643401731928  0.025397373907  \\\n",
       "161      6.427939  73.0  78.0       -0.102127        0.568372   \n",
       "468      1.853367  67.0  77.0       -0.092103        0.103420   \n",
       "461      1.477292  21.0  56.0       -0.091632        0.018493   \n",
       "363      3.781012  53.0  72.0       -0.104386        0.315440   \n",
       "548     11.628207  70.0  77.0       -0.070265        1.039079   \n",
       "\n",
       "     0.00387846117801     ...       0.000116176130179  0.000159734636111  \\\n",
       "161          2.523084     ...                0.000477           0.001896   \n",
       "468          0.137386     ...                0.001069           0.004076   \n",
       "461          0.008511     ...                0.000119           0.000177   \n",
       "363          1.141280     ...                0.000763           0.003595   \n",
       "548          9.945014     ...                0.000135           0.000209   \n",
       "\n",
       "     0.34765625.1  -0.209183673469  3.39569744547  52.0  74.0  \\\n",
       "161      0.218750        -0.876531      13.933572  57.0  58.0   \n",
       "468      0.031250        -0.880612      13.946697   8.0  32.0   \n",
       "461      0.445312        -0.861224      13.948401  89.0  79.0   \n",
       "363      0.125000        -0.850000      13.976033  32.0  45.0   \n",
       "548      0.445312        -0.864286      13.899504  88.0  76.0   \n",
       "\n",
       "     -0.212555803571  0.00780832988846      running  \n",
       "161        -0.872485          0.015363      walking  \n",
       "468        -0.873278          0.020709  not_walking  \n",
       "461        -0.873422          0.007717  not_walking  \n",
       "363        -0.874976          0.018710      walking  \n",
       "548        -0.870380          0.008177  not_walking  \n",
       "\n",
       "[5 rows x 55 columns]"
      ]
     },
     "execution_count": 9,
     "metadata": {},
     "output_type": "execute_result"
    }
   ],
   "source": [
    "df = pd.read_csv(\"./trainingData.txt\")\n",
    "# randomly rearange the rows of the dataset\n",
    "df = df.reindex(np.random.permutation(df.index))\n",
    "data = df.as_matrix()\n",
    "classifications = data[:,54]\n",
    "data = data[:,0:54]\n",
    "df.head()\n"
   ]
  },
  {
   "cell_type": "code",
   "execution_count": 10,
   "metadata": {
    "collapsed": true
   },
   "outputs": [],
   "source": [
    "# random forest classifier\n",
    "rf = RandomForestClassifier(n_estimators = 100)\n",
    "accuracy = cross_val_score(rf,data,classifications,cv=3)"
   ]
  },
  {
   "cell_type": "code",
   "execution_count": 11,
   "metadata": {
    "collapsed": false
   },
   "outputs": [
    {
     "name": "stdout",
     "output_type": "stream",
     "text": [
      "0.98051745497\n"
     ]
    }
   ],
   "source": [
    "print np.mean(accuracy)"
   ]
  },
  {
   "cell_type": "code",
   "execution_count": 5,
   "metadata": {
    "collapsed": false
   },
   "outputs": [],
   "source": [
    "# featureInds = [1,2,3,11,12,13]\n",
    "# colInds = []\n",
    "# for i in range(144/16):\n",
    "#     colInds.append([x+16*i for x in featureInds])\n",
    "# colInds = np.array(colInds)\n",
    "# colInds = np.reshape(colInds,(1,-1))"
   ]
  },
  {
   "cell_type": "code",
   "execution_count": 6,
   "metadata": {
    "collapsed": false
   },
   "outputs": [
    {
     "data": {
      "text/plain": [
       "RandomForestClassifier(bootstrap=True, class_weight=None, criterion='gini',\n",
       "            max_depth=None, max_features='auto', max_leaf_nodes=None,\n",
       "            min_samples_leaf=1, min_samples_split=2,\n",
       "            min_weight_fraction_leaf=0.0, n_estimators=100, n_jobs=1,\n",
       "            oob_score=False, random_state=None, verbose=0,\n",
       "            warm_start=False)"
      ]
     },
     "execution_count": 6,
     "metadata": {},
     "output_type": "execute_result"
    }
   ],
   "source": [
    "rf.fit(data,classifications)"
   ]
  },
  {
   "cell_type": "code",
   "execution_count": 7,
   "metadata": {
    "collapsed": true
   },
   "outputs": [],
   "source": [
    "# pickle the classifier\n",
    "output = open('randomforestclassifier2.pkl', 'wb')\n",
    "pkl.dump(rf,output)\n",
    "output.close()"
   ]
  },
  {
   "cell_type": "markdown",
   "metadata": {
    "collapsed": false
   },
   "source": [
    "pred = rf.predict(np.zeros((1,54)))\n",
    "print pred[0]\n",
    "if pred[0] is pred[0]"
   ]
  },
  {
   "cell_type": "markdown",
   "metadata": {
    "collapsed": false
   },
   "source": [
    "np.zeros((1,54))"
   ]
  },
  {
   "cell_type": "code",
   "execution_count": null,
   "metadata": {
    "collapsed": true
   },
   "outputs": [],
   "source": []
  }
 ],
 "metadata": {
  "kernelspec": {
   "display_name": "Python 2",
   "language": "python",
   "name": "python2"
  },
  "language_info": {
   "codemirror_mode": {
    "name": "ipython",
    "version": 2
   },
   "file_extension": ".py",
   "mimetype": "text/x-python",
   "name": "python",
   "nbconvert_exporter": "python",
   "pygments_lexer": "ipython2",
   "version": "2.7.11"
  }
 },
 "nbformat": 4,
 "nbformat_minor": 0
}
