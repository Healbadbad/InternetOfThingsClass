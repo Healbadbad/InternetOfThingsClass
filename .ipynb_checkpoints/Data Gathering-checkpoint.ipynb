{
 "cells": [
  {
   "cell_type": "markdown",
   "metadata": {},
   "source": [
    "# Internet of Things Project"
   ]
  },
  {
   "cell_type": "markdown",
   "metadata": {},
   "source": [
    "The Data is collected from a Shimmer, and is stored as a CSV\n",
    "\n"
   ]
  },
  {
   "cell_type": "markdown",
   "metadata": {},
   "source": [
    "# The Data\n"
   ]
  },
  {
   "cell_type": "markdown",
   "metadata": {},
   "source": [
    "The data is formatted as follows:\n",
    "\n",
    "unix timestamp, ax,ay,az, wx,wy,wz ,battery, gx,gy,gz mx,my,mz, pressure, temperature, ''\n"
   ]
  },
  {
   "cell_type": "code",
   "execution_count": 93,
   "metadata": {
    "collapsed": false
   },
   "outputs": [],
   "source": [
    "%matplotlib inline"
   ]
  },
  {
   "cell_type": "code",
   "execution_count": 94,
   "metadata": {
    "collapsed": false
   },
   "outputs": [],
   "source": [
    "import matplotlib.pyplot as plt\n",
    "import numpy as np\n",
    "import datetime\n",
    "import csv\n",
    "\n",
    "location = \"Shimmer_Data/2_19_16_to_2_21_16/2016-02-19_11.35.33_First_Deploy_MultiSession/\"\n",
    "pre = \"First_Deploy_Session1_Shimmer_\"\n",
    "post = \"_Uncalibrated_SD.txt\" \n",
    "devices = [\"E913\", \"E8D2\", \"E8E3\", \"E84F\", \"E90B\", \"E91B\",\n",
    "           \"E833\", \"E863\", \"E887\", \"E906\", \"E912\"]\n",
    "csvfile = open(location + pre + devices[0] + post)\n",
    "reader = csv.reader(csvfile, delimiter = ',')\n",
    "numsamples = 2000"
   ]
  },
  {
   "cell_type": "code",
   "execution_count": 95,
   "metadata": {
    "collapsed": false
   },
   "outputs": [],
   "source": [
    "# sum = 0\n",
    "# for row in reader:\n",
    "#     sum +=1\n",
    "# print sum"
   ]
  },
  {
   "cell_type": "code",
   "execution_count": 96,
   "metadata": {
    "collapsed": false
   },
   "outputs": [
    {
     "name": "stdout",
     "output_type": "stream",
     "text": [
      "2000\n"
     ]
    }
   ],
   "source": [
    "# Get rid of tag info\n",
    "for k in range(3):\n",
    "    reader.next()\n",
    "\n",
    "data = []\n",
    "for k in range(numsamples):\n",
    "    data.append(reader.next())\n",
    "    \n",
    "print len(data)"
   ]
  },
  {
   "cell_type": "code",
   "execution_count": 100,
   "metadata": {
    "collapsed": false,
    "scrolled": false
   },
   "outputs": [
    {
     "name": "stdout",
     "output_type": "stream",
     "text": [
      "1455900030557.1\n"
     ]
    },
    {
     "ename": "ValueError",
     "evalue": "timestamp out of range for platform localtime()/gmtime() function",
     "output_type": "error",
     "traceback": [
      "\u001b[1;31m---------------------------------------------------------------------------\u001b[0m",
      "\u001b[1;31mValueError\u001b[0m                                Traceback (most recent call last)",
      "\u001b[1;32m<ipython-input-100-c419b3216ac3>\u001b[0m in \u001b[0;36m<module>\u001b[1;34m()\u001b[0m\n\u001b[0;32m     14\u001b[0m print(\n\u001b[0;32m     15\u001b[0m     datetime.datetime.fromtimestamp(\n\u001b[1;32m---> 16\u001b[1;33m         \u001b[0mfloat\u001b[0m\u001b[1;33m(\u001b[0m\u001b[0mdata\u001b[0m\u001b[1;33m[\u001b[0m\u001b[1;36m0\u001b[0m\u001b[1;33m]\u001b[0m\u001b[1;33m[\u001b[0m\u001b[1;36m0\u001b[0m\u001b[1;33m]\u001b[0m\u001b[1;33m)\u001b[0m\u001b[1;33m\u001b[0m\u001b[0m\n\u001b[0m\u001b[0;32m     17\u001b[0m     ).strftime('%Y-%m-%d %H:%M:%S')\n\u001b[0;32m     18\u001b[0m )\n",
      "\u001b[1;31mValueError\u001b[0m: timestamp out of range for platform localtime()/gmtime() function"
     ]
    },
    {
     "data": {
      "image/png": "[encoded data removed]",
      "text/plain": [
       "<matplotlib.figure.Figure at 0xaa4c4e0>"
      ]
     },
     "metadata": {},
     "output_type": "display_data"
    }
   ],
   "source": [
    "toPlot = [[],[],[]]\n",
    "x = np.linspace(0,1,numsamples)\n",
    "for k in range(numsamples):\n",
    "    toPlot[0].append(data[k][1])\n",
    "    toPlot[1].append(data[k][2])\n",
    "    toPlot[2].append(data[k][3])\n",
    "\n",
    "plt.plot(x,toPlot[0])\n",
    "plt.plot(x,toPlot[1])\n",
    "plt.plot(x,toPlot[2])\n",
    "\n",
    "#print the timestamp\n",
    "print 1284101485\n",
    "print data[0][0]\n",
    "print(\n",
    "    datetime.datetime.fromtimestamp(\n",
    "        float(data[0][0])\n",
    "    ).strftime('%Y-%m-%d %H:%M:%S')\n",
    ")\n",
    "plt.title('Accelerometer Data')"
   ]
  },
  {
   "cell_type": "code",
   "execution_count": null,
   "metadata": {
    "collapsed": true
   },
   "outputs": [],
   "source": []
  },
  {
   "cell_type": "code",
   "execution_count": null,
   "metadata": {
    "collapsed": true
   },
   "outputs": [],
   "source": []
  }
 ],
 "metadata": {
  "kernelspec": {
   "display_name": "Python 2",
   "language": "python",
   "name": "python2"
  },
  "language_info": {
   "codemirror_mode": {
    "name": "ipython",
    "version": 2
   },
   "file_extension": ".py",
   "mimetype": "text/x-python",
   "name": "python",
   "nbconvert_exporter": "python",
   "pygments_lexer": "ipython2",
   "version": "2.7.11"
  }
 },
 "nbformat": 4,
 "nbformat_minor": 0
}
