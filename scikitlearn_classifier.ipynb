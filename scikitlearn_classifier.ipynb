{
 "cells": [
  {
   "cell_type": "code",
   "execution_count": 1,
   "metadata": {
    "collapsed": true
   },
   "outputs": [],
   "source": [
    "import pandas as pd\n",
    "import numpy as np\n",
    "import pickle as pkl\n",
    "from sklearn.cross_validation import cross_val_score\n",
    "from sklearn.metrics import accuracy_score\n",
    "from sklearn import tree\n",
    "from sklearn.ensemble import RandomForestClassifier"
   ]
  },
  {
   "cell_type": "code",
   "execution_count": 2,
   "metadata": {
    "collapsed": false
   },
   "outputs": [
    {
     "data": {
      "text/html": [
       "<div>\n",
       "<table border=\"1\" class=\"dataframe\">\n",
       "  <thead>\n",
       "    <tr style=\"text-align: right;\">\n",
       "      <th></th>\n",
       "      <th>featurePowerSpectrumMean0</th>\n",
       "      <th>featurePowerSpectrumMean1</th>\n",
       "      <th>featurePowerSpectrumMean2</th>\n",
       "      <th>featurePowerSpectrumMean3</th>\n",
       "      <th>featurePowerSpectrumMean4</th>\n",
       "      <th>featurePowerSpectrumMean5</th>\n",
       "      <th>featurePowerSpectrumMean6</th>\n",
       "      <th>featurePowerSpectrumMean7</th>\n",
       "      <th>featurePowerSpectrumMean8</th>\n",
       "      <th>featurePowerSpectrumMean9</th>\n",
       "      <th>...</th>\n",
       "      <th>featureWindowStdev7</th>\n",
       "      <th>featureWindowStdev8</th>\n",
       "      <th>featureWindowStdev9</th>\n",
       "      <th>featureWindowStdev10</th>\n",
       "      <th>featureWindowStdev11</th>\n",
       "      <th>featureWindowStdev12</th>\n",
       "      <th>featureWindowStdev13</th>\n",
       "      <th>featureWindowStdev14</th>\n",
       "      <th>featureWindowStdev15</th>\n",
       "      <th>class</th>\n",
       "    </tr>\n",
       "  </thead>\n",
       "  <tbody>\n",
       "    <tr>\n",
       "      <th>1247</th>\n",
       "      <td>63611.852752</td>\n",
       "      <td>0.000174</td>\n",
       "      <td>0.000193</td>\n",
       "      <td>0.000111</td>\n",
       "      <td>0.001130</td>\n",
       "      <td>0.000408</td>\n",
       "      <td>0.002023</td>\n",
       "      <td>83.838378</td>\n",
       "      <td>725453.751872</td>\n",
       "      <td>559542.716532</td>\n",
       "      <td>...</td>\n",
       "      <td>6.267032</td>\n",
       "      <td>586.159854</td>\n",
       "      <td>505.246975</td>\n",
       "      <td>510.911069</td>\n",
       "      <td>0.002373</td>\n",
       "      <td>0.001452</td>\n",
       "      <td>0.003075</td>\n",
       "      <td>0.004275</td>\n",
       "      <td>0.002861</td>\n",
       "      <td>not_walking</td>\n",
       "    </tr>\n",
       "    <tr>\n",
       "      <th>20</th>\n",
       "      <td>63611.808849</td>\n",
       "      <td>0.000180</td>\n",
       "      <td>0.000197</td>\n",
       "      <td>0.000177</td>\n",
       "      <td>0.001221</td>\n",
       "      <td>0.000513</td>\n",
       "      <td>0.002016</td>\n",
       "      <td>75.946294</td>\n",
       "      <td>815572.694562</td>\n",
       "      <td>471976.019428</td>\n",
       "      <td>...</td>\n",
       "      <td>6.043541</td>\n",
       "      <td>613.138294</td>\n",
       "      <td>506.167407</td>\n",
       "      <td>478.039304</td>\n",
       "      <td>0.001991</td>\n",
       "      <td>0.001440</td>\n",
       "      <td>0.003048</td>\n",
       "      <td>0.004095</td>\n",
       "      <td>0.006570</td>\n",
       "      <td>not_walking</td>\n",
       "    </tr>\n",
       "    <tr>\n",
       "      <th>4944</th>\n",
       "      <td>63611.840577</td>\n",
       "      <td>0.002810</td>\n",
       "      <td>0.007072</td>\n",
       "      <td>0.014356</td>\n",
       "      <td>0.005731</td>\n",
       "      <td>0.010822</td>\n",
       "      <td>0.020521</td>\n",
       "      <td>145.564394</td>\n",
       "      <td>9318237.638010</td>\n",
       "      <td>2269727.000190</td>\n",
       "      <td>...</td>\n",
       "      <td>8.114833</td>\n",
       "      <td>2135.580814</td>\n",
       "      <td>1151.191360</td>\n",
       "      <td>695.823965</td>\n",
       "      <td>0.001682</td>\n",
       "      <td>0.005127</td>\n",
       "      <td>0.002672</td>\n",
       "      <td>0.005224</td>\n",
       "      <td>0.003178</td>\n",
       "      <td>not_walking</td>\n",
       "    </tr>\n",
       "    <tr>\n",
       "      <th>933</th>\n",
       "      <td>63611.835607</td>\n",
       "      <td>0.009276</td>\n",
       "      <td>0.009017</td>\n",
       "      <td>0.037480</td>\n",
       "      <td>0.009008</td>\n",
       "      <td>0.004092</td>\n",
       "      <td>0.036213</td>\n",
       "      <td>68.645261</td>\n",
       "      <td>1089624.021410</td>\n",
       "      <td>1949281.483620</td>\n",
       "      <td>...</td>\n",
       "      <td>5.904683</td>\n",
       "      <td>816.700287</td>\n",
       "      <td>1034.332514</td>\n",
       "      <td>566.160911</td>\n",
       "      <td>0.002319</td>\n",
       "      <td>0.001513</td>\n",
       "      <td>0.002771</td>\n",
       "      <td>0.003874</td>\n",
       "      <td>0.000553</td>\n",
       "      <td>not_walking</td>\n",
       "    </tr>\n",
       "    <tr>\n",
       "      <th>4572</th>\n",
       "      <td>63611.942266</td>\n",
       "      <td>0.000171</td>\n",
       "      <td>0.000345</td>\n",
       "      <td>0.000429</td>\n",
       "      <td>0.003530</td>\n",
       "      <td>0.003306</td>\n",
       "      <td>0.005208</td>\n",
       "      <td>102.390535</td>\n",
       "      <td>1388380.821490</td>\n",
       "      <td>724683.024841</td>\n",
       "      <td>...</td>\n",
       "      <td>7.738908</td>\n",
       "      <td>807.363572</td>\n",
       "      <td>574.158160</td>\n",
       "      <td>629.297239</td>\n",
       "      <td>0.001617</td>\n",
       "      <td>0.004847</td>\n",
       "      <td>0.002827</td>\n",
       "      <td>0.005210</td>\n",
       "      <td>0.001620</td>\n",
       "      <td>not_walking</td>\n",
       "    </tr>\n",
       "  </tbody>\n",
       "</table>\n",
       "<p>5 rows × 145 columns</p>\n",
       "</div>"
      ],
      "text/plain": [
       "      featurePowerSpectrumMean0  featurePowerSpectrumMean1  \\\n",
       "1247               63611.852752                   0.000174   \n",
       "20                 63611.808849                   0.000180   \n",
       "4944               63611.840577                   0.002810   \n",
       "933                63611.835607                   0.009276   \n",
       "4572               63611.942266                   0.000171   \n",
       "\n",
       "      featurePowerSpectrumMean2  featurePowerSpectrumMean3  \\\n",
       "1247                   0.000193                   0.000111   \n",
       "20                     0.000197                   0.000177   \n",
       "4944                   0.007072                   0.014356   \n",
       "933                    0.009017                   0.037480   \n",
       "4572                   0.000345                   0.000429   \n",
       "\n",
       "      featurePowerSpectrumMean4  featurePowerSpectrumMean5  \\\n",
       "1247                   0.001130                   0.000408   \n",
       "20                     0.001221                   0.000513   \n",
       "4944                   0.005731                   0.010822   \n",
       "933                    0.009008                   0.004092   \n",
       "4572                   0.003530                   0.003306   \n",
       "\n",
       "      featurePowerSpectrumMean6  featurePowerSpectrumMean7  \\\n",
       "1247                   0.002023                  83.838378   \n",
       "20                     0.002016                  75.946294   \n",
       "4944                   0.020521                 145.564394   \n",
       "933                    0.036213                  68.645261   \n",
       "4572                   0.005208                 102.390535   \n",
       "\n",
       "      featurePowerSpectrumMean8  featurePowerSpectrumMean9     ...       \\\n",
       "1247              725453.751872              559542.716532     ...        \n",
       "20                815572.694562              471976.019428     ...        \n",
       "4944             9318237.638010             2269727.000190     ...        \n",
       "933              1089624.021410             1949281.483620     ...        \n",
       "4572             1388380.821490              724683.024841     ...        \n",
       "\n",
       "      featureWindowStdev7  featureWindowStdev8  featureWindowStdev9  \\\n",
       "1247             6.267032           586.159854           505.246975   \n",
       "20               6.043541           613.138294           506.167407   \n",
       "4944             8.114833          2135.580814          1151.191360   \n",
       "933              5.904683           816.700287          1034.332514   \n",
       "4572             7.738908           807.363572           574.158160   \n",
       "\n",
       "      featureWindowStdev10  featureWindowStdev11  featureWindowStdev12  \\\n",
       "1247            510.911069              0.002373              0.001452   \n",
       "20              478.039304              0.001991              0.001440   \n",
       "4944            695.823965              0.001682              0.005127   \n",
       "933             566.160911              0.002319              0.001513   \n",
       "4572            629.297239              0.001617              0.004847   \n",
       "\n",
       "      featureWindowStdev13  featureWindowStdev14  featureWindowStdev15  \\\n",
       "1247              0.003075              0.004275              0.002861   \n",
       "20                0.003048              0.004095              0.006570   \n",
       "4944              0.002672              0.005224              0.003178   \n",
       "933               0.002771              0.003874              0.000553   \n",
       "4572              0.002827              0.005210              0.001620   \n",
       "\n",
       "            class  \n",
       "1247  not_walking  \n",
       "20    not_walking  \n",
       "4944  not_walking  \n",
       "933   not_walking  \n",
       "4572  not_walking  \n",
       "\n",
       "[5 rows x 145 columns]"
      ]
     },
     "execution_count": 2,
     "metadata": {},
     "output_type": "execute_result"
    }
   ],
   "source": [
    "df = pd.read_csv(\"./Ground_Truth_Data_Compiled.arff.csv\")\n",
    "# randomly rearange the rows of the dataset\n",
    "df = df.reindex(np.random.permutation(df.index))\n",
    "data = df.as_matrix()\n",
    "classifications = data[:,144]\n",
    "data = data[:,0:144]\n",
    "df.head()\n"
   ]
  },
  {
   "cell_type": "code",
   "execution_count": 3,
   "metadata": {
    "collapsed": true
   },
   "outputs": [],
   "source": [
    "# random forest classifier\n",
    "rf = RandomForestClassifier(n_estimators = 100)\n",
    "accuracy = cross_val_score(rf,data,classifications,cv=3)"
   ]
  },
  {
   "cell_type": "code",
   "execution_count": 4,
   "metadata": {
    "collapsed": false
   },
   "outputs": [
    {
     "name": "stdout",
     "output_type": "stream",
     "text": [
      "0.990520500764\n"
     ]
    }
   ],
   "source": [
    "print np.mean(accuracy)"
   ]
  },
  {
   "cell_type": "code",
   "execution_count": 5,
   "metadata": {
    "collapsed": false
   },
   "outputs": [],
   "source": [
    "featureInds = [1,2,3,11,12,13]\n",
    "colInds = []\n",
    "for i in range(144/16):\n",
    "    colInds.append([x+16*i for x in featureInds])\n",
    "colInds = np.array(colInds)\n",
    "colInds = np.reshape(colInds,(1,-1))"
   ]
  },
  {
   "cell_type": "code",
   "execution_count": 6,
   "metadata": {
    "collapsed": false
   },
   "outputs": [
    {
     "data": {
      "text/plain": [
       "RandomForestClassifier(bootstrap=True, class_weight=None, criterion='gini',\n",
       "            max_depth=None, max_features='auto', max_leaf_nodes=None,\n",
       "            min_samples_leaf=1, min_samples_split=2,\n",
       "            min_weight_fraction_leaf=0.0, n_estimators=100, n_jobs=1,\n",
       "            oob_score=False, random_state=None, verbose=0,\n",
       "            warm_start=False)"
      ]
     },
     "execution_count": 6,
     "metadata": {},
     "output_type": "execute_result"
    }
   ],
   "source": [
    "relevantTrainingData = data[:,colInds[0]]\n",
    "rf.fit(relevantTrainingData,classifications)"
   ]
  },
  {
   "cell_type": "code",
   "execution_count": 7,
   "metadata": {
    "collapsed": true
   },
   "outputs": [],
   "source": [
    "# pickle the classifier\n",
    "output = open('randomforestclassifier.pkl', 'wb')\n",
    "pkl.dump(rf,output)\n",
    "output.close()"
   ]
  },
  {
   "cell_type": "code",
   "execution_count": 17,
   "metadata": {
    "collapsed": false
   },
   "outputs": [
    {
     "name": "stdout",
     "output_type": "stream",
     "text": [
      "not_walking\n",
      "this works\n"
     ]
    }
   ],
   "source": [
    "pred = rf.predict(np.zeros((1,54)))\n",
    "print pred[0]\n",
    "if pred[0] == 'not_walking':\n",
    "    print 'this works'\n",
    "else:\n",
    "    print 'this doesn\\'t work'"
   ]
  },
  {
   "cell_type": "code",
   "execution_count": null,
   "metadata": {
    "collapsed": false
   },
   "outputs": [],
   "source": [
    "np.zeros((1,54))"
   ]
  },
  {
   "cell_type": "code",
   "execution_count": 14,
   "metadata": {
    "collapsed": false
   },
   "outputs": [
    {
     "data": {
      "text/plain": [
       "str"
      ]
     },
     "execution_count": 14,
     "metadata": {},
     "output_type": "execute_result"
    }
   ],
   "source": [
    "type(pred[0])"
   ]
  },
  {
   "cell_type": "code",
   "execution_count": 15,
   "metadata": {
    "collapsed": false
   },
   "outputs": [
    {
     "data": {
      "text/plain": [
       "str"
      ]
     },
     "execution_count": 15,
     "metadata": {},
     "output_type": "execute_result"
    }
   ],
   "source": [
    "type('walking')"
   ]
  },
  {
   "cell_type": "code",
   "execution_count": 16,
   "metadata": {
    "collapsed": true
   },
   "outputs": [],
   "source": [
    "a = pred[0]"
   ]
  },
  {
   "cell_type": "code",
   "execution_count": null,
   "metadata": {
    "collapsed": true
   },
   "outputs": [],
   "source": []
  }
 ],
 "metadata": {
  "kernelspec": {
   "display_name": "Python 2",
   "language": "python",
   "name": "python2"
  },
  "language_info": {
   "codemirror_mode": {
    "name": "ipython",
    "version": 2
   },
   "file_extension": ".py",
   "mimetype": "text/x-python",
   "name": "python",
   "nbconvert_exporter": "python",
   "pygments_lexer": "ipython2",
   "version": "2.7.11"
  }
 },
 "nbformat": 4,
 "nbformat_minor": 0
}
