{
 "cells": [
  {
   "cell_type": "markdown",
   "metadata": {},
   "source": [
    "# Notes\n",
    "Row 462 - Initial Test data - Recognized running purely on the mag, adding more data\n",
    "Row 556 - Ran treadmil with nobody on it"
   ]
  },
  {
   "cell_type": "code",
   "execution_count": 1,
   "metadata": {
    "collapsed": true
   },
   "outputs": [],
   "source": [
    "import pandas as pd\n",
    "import numpy as np\n",
    "import pickle as pkl\n",
    "from sklearn.cross_validation import cross_val_score\n",
    "from sklearn.metrics import accuracy_score\n",
    "from sklearn import tree\n",
    "from sklearn.ensemble import RandomForestClassifier"
   ]
  },
  {
   "cell_type": "code",
   "execution_count": 2,
   "metadata": {
    "collapsed": false
   },
   "outputs": [
    {
     "data": {
      "text/html": [
       "<div>\n",
       "<table border=\"1\" class=\"dataframe\">\n",
       "  <thead>\n",
       "    <tr style=\"text-align: right;\">\n",
       "      <th></th>\n",
       "      <th>0.00116655757393</th>\n",
       "      <th>0.00421395093485</th>\n",
       "      <th>0.11328125</th>\n",
       "      <th>0.650602409639</th>\n",
       "      <th>10.277468602</th>\n",
       "      <th>0.0</th>\n",
       "      <th>41.0</th>\n",
       "      <th>0.643401731928</th>\n",
       "      <th>0.025397373907</th>\n",
       "      <th>0.00387846117801</th>\n",
       "      <th>...</th>\n",
       "      <th>0.000116176130179</th>\n",
       "      <th>0.000159734636111</th>\n",
       "      <th>0.34765625.1</th>\n",
       "      <th>-0.209183673469</th>\n",
       "      <th>3.39569744547</th>\n",
       "      <th>52.0</th>\n",
       "      <th>74.0</th>\n",
       "      <th>-0.212555803571</th>\n",
       "      <th>0.00780832988846</th>\n",
       "      <th>running</th>\n",
       "    </tr>\n",
       "  </thead>\n",
       "  <tbody>\n",
       "    <tr>\n",
       "      <th>121</th>\n",
       "      <td>0.697565</td>\n",
       "      <td>1.108148</td>\n",
       "      <td>0.421875</td>\n",
       "      <td>0.421687</td>\n",
       "      <td>7.023363</td>\n",
       "      <td>74.0</td>\n",
       "      <td>77.0</td>\n",
       "      <td>-0.113752</td>\n",
       "      <td>0.588850</td>\n",
       "      <td>2.224566</td>\n",
       "      <td>...</td>\n",
       "      <td>0.000449</td>\n",
       "      <td>0.001575</td>\n",
       "      <td>0.218750</td>\n",
       "      <td>-0.873469</td>\n",
       "      <td>13.972988</td>\n",
       "      <td>56.0</td>\n",
       "      <td>58.0</td>\n",
       "      <td>-0.874980</td>\n",
       "      <td>0.015312</td>\n",
       "      <td>walking</td>\n",
       "    </tr>\n",
       "    <tr>\n",
       "      <th>76</th>\n",
       "      <td>0.231807</td>\n",
       "      <td>0.536175</td>\n",
       "      <td>0.250000</td>\n",
       "      <td>0.325301</td>\n",
       "      <td>3.623903</td>\n",
       "      <td>126.0</td>\n",
       "      <td>78.0</td>\n",
       "      <td>-0.100339</td>\n",
       "      <td>0.316903</td>\n",
       "      <td>1.593352</td>\n",
       "      <td>...</td>\n",
       "      <td>0.000694</td>\n",
       "      <td>0.003213</td>\n",
       "      <td>0.125000</td>\n",
       "      <td>-0.878571</td>\n",
       "      <td>13.982254</td>\n",
       "      <td>32.0</td>\n",
       "      <td>45.0</td>\n",
       "      <td>-0.875558</td>\n",
       "      <td>0.018616</td>\n",
       "      <td>walking</td>\n",
       "    </tr>\n",
       "    <tr>\n",
       "      <th>220</th>\n",
       "      <td>2.268530</td>\n",
       "      <td>4.569684</td>\n",
       "      <td>0.250000</td>\n",
       "      <td>-0.084337</td>\n",
       "      <td>11.498234</td>\n",
       "      <td>64.0</td>\n",
       "      <td>68.0</td>\n",
       "      <td>-0.127683</td>\n",
       "      <td>1.050521</td>\n",
       "      <td>11.637596</td>\n",
       "      <td>...</td>\n",
       "      <td>0.000175</td>\n",
       "      <td>0.000306</td>\n",
       "      <td>0.449219</td>\n",
       "      <td>-0.874490</td>\n",
       "      <td>13.923944</td>\n",
       "      <td>89.0</td>\n",
       "      <td>76.0</td>\n",
       "      <td>-0.871931</td>\n",
       "      <td>0.009696</td>\n",
       "      <td>running</td>\n",
       "    </tr>\n",
       "    <tr>\n",
       "      <th>523</th>\n",
       "      <td>1.803627</td>\n",
       "      <td>3.304902</td>\n",
       "      <td>0.316406</td>\n",
       "      <td>0.674699</td>\n",
       "      <td>11.045552</td>\n",
       "      <td>62.0</td>\n",
       "      <td>75.0</td>\n",
       "      <td>-0.052946</td>\n",
       "      <td>0.999941</td>\n",
       "      <td>7.036853</td>\n",
       "      <td>...</td>\n",
       "      <td>0.000143</td>\n",
       "      <td>0.000247</td>\n",
       "      <td>0.445312</td>\n",
       "      <td>-0.871429</td>\n",
       "      <td>13.866448</td>\n",
       "      <td>114.0</td>\n",
       "      <td>74.0</td>\n",
       "      <td>-0.868339</td>\n",
       "      <td>0.008712</td>\n",
       "      <td>not_walking</td>\n",
       "    </tr>\n",
       "    <tr>\n",
       "      <th>153</th>\n",
       "      <td>0.791011</td>\n",
       "      <td>1.188136</td>\n",
       "      <td>0.289062</td>\n",
       "      <td>0.289157</td>\n",
       "      <td>6.394572</td>\n",
       "      <td>74.0</td>\n",
       "      <td>81.0</td>\n",
       "      <td>-0.109516</td>\n",
       "      <td>0.573540</td>\n",
       "      <td>2.289708</td>\n",
       "      <td>...</td>\n",
       "      <td>0.000410</td>\n",
       "      <td>0.001462</td>\n",
       "      <td>0.218750</td>\n",
       "      <td>-0.910204</td>\n",
       "      <td>13.949398</td>\n",
       "      <td>89.0</td>\n",
       "      <td>63.0</td>\n",
       "      <td>-0.873637</td>\n",
       "      <td>0.015256</td>\n",
       "      <td>walking</td>\n",
       "    </tr>\n",
       "  </tbody>\n",
       "</table>\n",
       "<p>5 rows × 55 columns</p>\n",
       "</div>"
      ],
      "text/plain": [
       "     0.00116655757393  0.00421395093485  0.11328125  0.650602409639  \\\n",
       "121          0.697565          1.108148    0.421875        0.421687   \n",
       "76           0.231807          0.536175    0.250000        0.325301   \n",
       "220          2.268530          4.569684    0.250000       -0.084337   \n",
       "523          1.803627          3.304902    0.316406        0.674699   \n",
       "153          0.791011          1.188136    0.289062        0.289157   \n",
       "\n",
       "     10.277468602    0.0  41.0  0.643401731928  0.025397373907  \\\n",
       "121      7.023363   74.0  77.0       -0.113752        0.588850   \n",
       "76       3.623903  126.0  78.0       -0.100339        0.316903   \n",
       "220     11.498234   64.0  68.0       -0.127683        1.050521   \n",
       "523     11.045552   62.0  75.0       -0.052946        0.999941   \n",
       "153      6.394572   74.0  81.0       -0.109516        0.573540   \n",
       "\n",
       "     0.00387846117801     ...       0.000116176130179  0.000159734636111  \\\n",
       "121          2.224566     ...                0.000449           0.001575   \n",
       "76           1.593352     ...                0.000694           0.003213   \n",
       "220         11.637596     ...                0.000175           0.000306   \n",
       "523          7.036853     ...                0.000143           0.000247   \n",
       "153          2.289708     ...                0.000410           0.001462   \n",
       "\n",
       "     0.34765625.1  -0.209183673469  3.39569744547   52.0  74.0  \\\n",
       "121      0.218750        -0.873469      13.972988   56.0  58.0   \n",
       "76       0.125000        -0.878571      13.982254   32.0  45.0   \n",
       "220      0.449219        -0.874490      13.923944   89.0  76.0   \n",
       "523      0.445312        -0.871429      13.866448  114.0  74.0   \n",
       "153      0.218750        -0.910204      13.949398   89.0  63.0   \n",
       "\n",
       "     -0.212555803571  0.00780832988846      running  \n",
       "121        -0.874980          0.015312      walking  \n",
       "76         -0.875558          0.018616      walking  \n",
       "220        -0.871931          0.009696      running  \n",
       "523        -0.868339          0.008712  not_walking  \n",
       "153        -0.873637          0.015256      walking  \n",
       "\n",
       "[5 rows x 55 columns]"
      ]
     },
     "execution_count": 2,
     "metadata": {},
     "output_type": "execute_result"
    }
   ],
   "source": [
    "df = pd.read_csv(\"./trainingData.txt\")\n",
    "# randomly rearange the rows of the dataset\n",
    "df = df.reindex(np.random.permutation(df.index))\n",
    "data = df.as_matrix()\n",
    "classifications = data[:,54]\n",
    "data = data[:,0:54]\n",
    "df.head()\n"
   ]
  },
  {
   "cell_type": "code",
   "execution_count": 3,
   "metadata": {
    "collapsed": true
   },
   "outputs": [],
   "source": [
    "# random forest classifier\n",
    "rf = RandomForestClassifier(n_estimators = 100)\n",
    "accuracy = cross_val_score(rf,data,classifications,cv=3)"
   ]
  },
  {
   "cell_type": "code",
   "execution_count": 4,
   "metadata": {
    "collapsed": false
   },
   "outputs": [
    {
     "name": "stdout",
     "output_type": "stream",
     "text": [
      "0.977710173096\n"
     ]
    }
   ],
   "source": [
    "print np.mean(accuracy)"
   ]
  },
  {
   "cell_type": "code",
   "execution_count": 5,
   "metadata": {
    "collapsed": false
   },
   "outputs": [],
   "source": [
    "# featureInds = [1,2,3,11,12,13]\n",
    "# colInds = []\n",
    "# for i in range(144/16):\n",
    "#     colInds.append([x+16*i for x in featureInds])\n",
    "# colInds = np.array(colInds)\n",
    "# colInds = np.reshape(colInds,(1,-1))"
   ]
  },
  {
   "cell_type": "code",
   "execution_count": 6,
   "metadata": {
    "collapsed": false
   },
   "outputs": [
    {
     "data": {
      "text/plain": [
       "RandomForestClassifier(bootstrap=True, class_weight=None, criterion='gini',\n",
       "            max_depth=None, max_features='auto', max_leaf_nodes=None,\n",
       "            min_samples_leaf=1, min_samples_split=2,\n",
       "            min_weight_fraction_leaf=0.0, n_estimators=100, n_jobs=1,\n",
       "            oob_score=False, random_state=None, verbose=0,\n",
       "            warm_start=False)"
      ]
     },
     "execution_count": 6,
     "metadata": {},
     "output_type": "execute_result"
    }
   ],
   "source": [
    "rf.fit(data,classifications)"
   ]
  },
  {
   "cell_type": "code",
   "execution_count": 7,
   "metadata": {
    "collapsed": true
   },
   "outputs": [],
   "source": [
    "# pickle the classifier\n",
    "output = open('randomforestclassifier2.pkl', 'wb')\n",
    "pkl.dump(rf,output)\n",
    "output.close()"
   ]
  },
  {
   "cell_type": "markdown",
   "metadata": {
    "collapsed": false
   },
   "source": [
    "pred = rf.predict(np.zeros((1,54)))\n",
    "print pred[0]\n",
    "if pred[0] is pred[0]"
   ]
  },
  {
   "cell_type": "markdown",
   "metadata": {
    "collapsed": false
   },
   "source": [
    "np.zeros((1,54))"
   ]
  },
  {
   "cell_type": "code",
   "execution_count": null,
   "metadata": {
    "collapsed": true
   },
   "outputs": [],
   "source": []
  }
 ],
 "metadata": {
  "kernelspec": {
   "display_name": "Python 2",
   "language": "python",
   "name": "python2"
  },
  "language_info": {
   "codemirror_mode": {
    "name": "ipython",
    "version": 2
   },
   "file_extension": ".py",
   "mimetype": "text/x-python",
   "name": "python",
   "nbconvert_exporter": "python",
   "pygments_lexer": "ipython2",
   "version": "2.7.11"
  }
 },
 "nbformat": 4,
 "nbformat_minor": 0
}
